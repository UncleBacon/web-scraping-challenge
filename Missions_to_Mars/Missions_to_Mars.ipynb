{
 "cells": [
  {
   "cell_type": "code",
   "execution_count": 453,
   "metadata": {},
   "outputs": [],
   "source": [
    "from splinter import Browser\n",
    "from bs4 import BeautifulSoup as bs"
   ]
  },
  {
   "cell_type": "code",
   "execution_count": 454,
   "metadata": {},
   "outputs": [],
   "source": [
    "facts = []"
   ]
  },
  {
   "cell_type": "markdown",
   "metadata": {},
   "source": [
    "# Windows Users"
   ]
  },
  {
   "cell_type": "code",
   "execution_count": 455,
   "metadata": {},
   "outputs": [],
   "source": [
    "executable_path = {'executable_path': \"chromedriver\"}\n",
    "browser = Browser('chrome', **executable_path, headless=False)"
   ]
  },
  {
   "cell_type": "markdown",
   "metadata": {},
   "source": [
    "<h1>Nasa News</h1>"
   ]
  },
  {
   "cell_type": "code",
   "execution_count": 456,
   "metadata": {},
   "outputs": [],
   "source": [
    "nasa_news = 'https://mars.nasa.gov/news/'\n",
    "browser.visit(nasa_news)\n",
    "html = browser.html\n",
    "soup = bs(html, 'html.parser')\n",
    "\n",
    "results = soup.find_all('li', class_=\"slide\")\n"
   ]
  },
  {
   "cell_type": "code",
   "execution_count": 457,
   "metadata": {},
   "outputs": [
    {
     "data": {
      "text/plain": [
       "{'news_title': \"The Mast Is Raised for NASA's Mars 2020 Rover\",\n",
       " 'news_description': 'Engineers at JPL take a group selfie after attaching the remote sensing mast to the Mars 2020 rover.',\n",
       " 'news_images': 'https://mars.nasa.gov/news//news/8450/the-mast-is-raised-for-nasas-mars-2020-rover/'}"
      ]
     },
     "execution_count": 457,
     "metadata": {},
     "output_type": "execute_result"
    }
   ],
   "source": [
    "for result in results:\n",
    "        facts['news_title'] = result.find('div',class_=\"content_title\").text\n",
    "        facts['news_description'] = result.find('div',class_=\"article_teaser_body\").text\n",
    "        facts['news_images'] = nasa_news + result.a['href']\n",
    "        \n",
    "facts\n"
   ]
  },
  {
   "cell_type": "markdown",
   "metadata": {},
   "source": [
    "<h1>JPL Image</h1>"
   ]
  },
  {
   "cell_type": "code",
   "execution_count": 458,
   "metadata": {},
   "outputs": [],
   "source": [
    "import time\n",
    "jpl = 'https://www.jpl.nasa.gov/spaceimages/?search=&category=Mars'\n",
    "browser.visit(jpl)\n",
    "\n",
    "html = browser.html\n",
    "soup = bs(html, 'html.parser')\n",
    "\n",
    "browser.click_link_by_id('full_image')\n",
    "time.sleep(2)\n",
    "browser.click_link_by_partial_href('/spaceimages/details')\n",
    "\n",
    "\n"
   ]
  },
  {
   "cell_type": "code",
   "execution_count": 459,
   "metadata": {},
   "outputs": [
    {
     "data": {
      "text/plain": [
       "{'news_title': \"The Mast Is Raised for NASA's Mars 2020 Rover\",\n",
       " 'news_description': 'Engineers at JPL take a group selfie after attaching the remote sensing mast to the Mars 2020 rover.',\n",
       " 'news_images': 'https://mars.nasa.gov/news//news/8450/the-mast-is-raised-for-nasas-mars-2020-rover/',\n",
       " 'jpl_featured_url': 'https://www.jpl.nasa.gov/spaceimages/images/largesize/PIA19637_hires.jpg'}"
      ]
     },
     "execution_count": 459,
     "metadata": {},
     "output_type": "execute_result"
    }
   ],
   "source": [
    "soup = bs(browser.html, 'html.parser')\n",
    "results = soup.find('figure', class_ = 'lede')\n",
    "base_url = browser.url[:24]\n",
    "img = results.a.img['src']\n",
    "facts['featured_img_url'] = base_url + img\n",
    "\n",
    "\n",
    "facts"
   ]
  },
  {
   "cell_type": "markdown",
   "metadata": {},
   "source": [
    "<h1>Mars Weather</h1>"
   ]
  },
  {
   "cell_type": "code",
   "execution_count": 460,
   "metadata": {},
   "outputs": [],
   "source": [
    "weather = 'https://twitter.com/marswxreport?lang=en'\n",
    "browser.visit(weather)\n",
    "\n",
    "html = browser.html\n",
    "soup = bs(html, 'html.parser')"
   ]
  },
  {
   "cell_type": "code",
   "execution_count": 461,
   "metadata": {},
   "outputs": [
    {
     "data": {
      "text/plain": [
       "{'news_title': \"The Mast Is Raised for NASA's Mars 2020 Rover\",\n",
       " 'news_description': 'Engineers at JPL take a group selfie after attaching the remote sensing mast to the Mars 2020 rover.',\n",
       " 'news_images': 'https://mars.nasa.gov/news//news/8450/the-mast-is-raised-for-nasas-mars-2020-rover/',\n",
       " 'jpl_featured_url': 'https://www.jpl.nasa.gov/spaceimages/images/largesize/PIA19637_hires.jpg',\n",
       " 'mars_weather': 'InSight sol 331 (2019-11-01) low -100.9ºC (-149.6ºF) high -24.6ºC (-12.3ºF)\\nwinds from the SSE at 5.2 m/s (11.6 mph) gusting to 18.5 m/s (41.4 mph)\\npressure at 7.00 hPa'}"
      ]
     },
     "execution_count": 461,
     "metadata": {},
     "output_type": "execute_result"
    }
   ],
   "source": [
    "results = soup.find('div', class_=\"js-tweet-text-container\")\n",
    "results.a.decompose()\n",
    "facts['mars_weather'] = results.find('p').text\n",
    "\n",
    "facts"
   ]
  },
  {
   "cell_type": "markdown",
   "metadata": {},
   "source": [
    "<h1>Mars Facts</h1>"
   ]
  },
  {
   "cell_type": "code",
   "execution_count": 463,
   "metadata": {},
   "outputs": [
    {
     "data": {
      "text/plain": [
       "{'news_title': \"The Mast Is Raised for NASA's Mars 2020 Rover\",\n",
       " 'news_description': 'Engineers at JPL take a group selfie after attaching the remote sensing mast to the Mars 2020 rover.',\n",
       " 'news_images': 'https://mars.nasa.gov/news//news/8450/the-mast-is-raised-for-nasas-mars-2020-rover/',\n",
       " 'jpl_featured_url': 'https://www.jpl.nasa.gov/spaceimages/images/largesize/PIA19637_hires.jpg',\n",
       " 'mars_weather': 'InSight sol 331 (2019-11-01) low -100.9ºC (-149.6ºF) high -24.6ºC (-12.3ºF)\\nwinds from the SSE at 5.2 m/s (11.6 mph) gusting to 18.5 m/s (41.4 mph)\\npressure at 7.00 hPa',\n",
       " 'mars_facts': '<table border=\"1\" class=\"dataframe\">  <thead>    <tr style=\"text-align: right;\">      <th>Fact</th>      <th>Data</th>    </tr>  </thead>  <tbody>    <tr>      <td>Equatorial Diameter:</td>      <td>6,792 km</td>    </tr>    <tr>      <td>Polar Diameter:</td>      <td>6,752 km</td>    </tr>    <tr>      <td>Mass:</td>      <td>6.39 × 10^23 kg (0.11 Earths)</td>    </tr>    <tr>      <td>Moons:</td>      <td>2 (Phobos &amp; Deimos)</td>    </tr>    <tr>      <td>Orbit Distance:</td>      <td>227,943,824 km (1.38 AU)</td>    </tr>    <tr>      <td>Orbit Period:</td>      <td>687 days (1.9 years)</td>    </tr>    <tr>      <td>Surface Temperature:</td>      <td>-87 to -5 °C</td>    </tr>    <tr>      <td>First Record:</td>      <td>2nd millennium BC</td>    </tr>    <tr>      <td>Recorded By:</td>      <td>Egyptian astronomers</td>    </tr>  </tbody></table>'}"
      ]
     },
     "execution_count": 463,
     "metadata": {},
     "output_type": "execute_result"
    }
   ],
   "source": [
    "import pandas as pd\n",
    "space_facts = 'https://space-facts.com/mars/'\n",
    "\n",
    "facts['mars_facts'] = pd.read_html(space_facts)[1].rename(columns = {0:'Fact',1:'Data'}).to_html(index=False).replace('\\n','')\n",
    "\n",
    "\n",
    "facts"
   ]
  },
  {
   "cell_type": "markdown",
   "metadata": {},
   "source": [
    "<h1>Mars Hemispheres</h1>"
   ]
  },
  {
   "cell_type": "code",
   "execution_count": 464,
   "metadata": {
    "scrolled": true
   },
   "outputs": [],
   "source": [
    "hemispheres = 'https://astrogeology.usgs.gov/search/results?q=hemisphere+enhanced&k1=target&v1=Mars'\n",
    "browser.visit(hemispheres)\n",
    "\n",
    "html = browser.html\n",
    "soup = bs(html, 'html.parser')\n",
    "\n",
    "hemisphere_image_urls = []\n",
    "base_url = browser.url[:29]\n",
    "results = soup.find_all('div',attrs={'class':'collapsible results'})[0]\n",
    "images = results.find_all('div')[:]"
   ]
  },
  {
   "cell_type": "code",
   "execution_count": 465,
   "metadata": {},
   "outputs": [],
   "source": [
    "title = []\n",
    "hemi_url = []\n",
    "for image in range(0,len(images)):\n",
    "    if image == 0 or image % 2 == 0:\n",
    "        url = base_url+images[image].a['href']\n",
    "        title.append(images[image].h3.text)\n",
    "        browser.visit(url)\n",
    "        time.sleep(1)\n",
    "        soup = bs(browser.html,'html.parser')\n",
    "        results = soup.find_all('ul')[0]\n",
    "        result = results.find_all('li')[0]\n",
    "        hemi_url.append(result.a['href'])\n",
    "facts['hemi_title'] = title\n",
    "facts['hemi_url'] = hemi_url\n"
   ]
  },
  {
   "cell_type": "code",
   "execution_count": 466,
   "metadata": {},
   "outputs": [
    {
     "data": {
      "text/plain": [
       "{'news_title': \"The Mast Is Raised for NASA's Mars 2020 Rover\",\n",
       " 'news_description': 'Engineers at JPL take a group selfie after attaching the remote sensing mast to the Mars 2020 rover.',\n",
       " 'news_images': 'https://mars.nasa.gov/news//news/8450/the-mast-is-raised-for-nasas-mars-2020-rover/',\n",
       " 'jpl_featured_url': 'https://www.jpl.nasa.gov/spaceimages/images/largesize/PIA19637_hires.jpg',\n",
       " 'mars_weather': 'InSight sol 331 (2019-11-01) low -100.9ºC (-149.6ºF) high -24.6ºC (-12.3ºF)\\nwinds from the SSE at 5.2 m/s (11.6 mph) gusting to 18.5 m/s (41.4 mph)\\npressure at 7.00 hPa',\n",
       " 'mars_facts': '<table border=\"1\" class=\"dataframe\">  <thead>    <tr style=\"text-align: right;\">      <th>Fact</th>      <th>Data</th>    </tr>  </thead>  <tbody>    <tr>      <td>Equatorial Diameter:</td>      <td>6,792 km</td>    </tr>    <tr>      <td>Polar Diameter:</td>      <td>6,752 km</td>    </tr>    <tr>      <td>Mass:</td>      <td>6.39 × 10^23 kg (0.11 Earths)</td>    </tr>    <tr>      <td>Moons:</td>      <td>2 (Phobos &amp; Deimos)</td>    </tr>    <tr>      <td>Orbit Distance:</td>      <td>227,943,824 km (1.38 AU)</td>    </tr>    <tr>      <td>Orbit Period:</td>      <td>687 days (1.9 years)</td>    </tr>    <tr>      <td>Surface Temperature:</td>      <td>-87 to -5 °C</td>    </tr>    <tr>      <td>First Record:</td>      <td>2nd millennium BC</td>    </tr>    <tr>      <td>Recorded By:</td>      <td>Egyptian astronomers</td>    </tr>  </tbody></table>',\n",
       " 'hemi_title': ['Cerberus Hemisphere Enhanced',\n",
       "  'Schiaparelli Hemisphere Enhanced',\n",
       "  'Syrtis Major Hemisphere Enhanced',\n",
       "  'Valles Marineris Hemisphere Enhanced'],\n",
       " 'hemi_url': ['http://astropedia.astrogeology.usgs.gov/download/Mars/Viking/cerberus_enhanced.tif/full.jpg',\n",
       "  'http://astropedia.astrogeology.usgs.gov/download/Mars/Viking/schiaparelli_enhanced.tif/full.jpg',\n",
       "  'http://astropedia.astrogeology.usgs.gov/download/Mars/Viking/syrtis_major_enhanced.tif/full.jpg',\n",
       "  'http://astropedia.astrogeology.usgs.gov/download/Mars/Viking/valles_marineris_enhanced.tif/full.jpg']}"
      ]
     },
     "execution_count": 466,
     "metadata": {},
     "output_type": "execute_result"
    }
   ],
   "source": [
    "facts"
   ]
  },
  {
   "cell_type": "code",
   "execution_count": null,
   "metadata": {},
   "outputs": [],
   "source": []
  }
 ],
 "metadata": {
  "kernelspec": {
   "display_name": "Python 3",
   "language": "python",
   "name": "python3"
  },
  "language_info": {
   "codemirror_mode": {
    "name": "ipython",
    "version": 3
   },
   "file_extension": ".py",
   "mimetype": "text/x-python",
   "name": "python",
   "nbconvert_exporter": "python",
   "pygments_lexer": "ipython3",
   "version": "3.7.4"
  },
  "varInspector": {
   "cols": {
    "lenName": 16,
    "lenType": 16,
    "lenVar": 40
   },
   "kernels_config": {
    "python": {
     "delete_cmd_postfix": "",
     "delete_cmd_prefix": "del ",
     "library": "var_list.py",
     "varRefreshCmd": "print(var_dic_list())"
    },
    "r": {
     "delete_cmd_postfix": ") ",
     "delete_cmd_prefix": "rm(",
     "library": "var_list.r",
     "varRefreshCmd": "cat(var_dic_list()) "
    }
   },
   "types_to_exclude": [
    "module",
    "function",
    "builtin_function_or_method",
    "instance",
    "_Feature"
   ],
   "window_display": false
  }
 },
 "nbformat": 4,
 "nbformat_minor": 2
}

{
 "cells": [
  {
   "cell_type": "code",
   "execution_count": 56,
   "metadata": {},
   "outputs": [],
   "source": [
    "# import pymongo and all of the classes\n",
    "from pymongo import MongoClient, errors\n",
    "import scrape_mars\n",
    "\n",
    "# create a new client instance\n",
    "mongo_client = MongoClient('mongodb://localhost:27017/mars_app')"
   ]
  },
  {
   "cell_type": "code",
   "execution_count": 57,
   "metadata": {},
   "outputs": [],
   "source": [
    "db_names = mongo_client.list_database_names()"
   ]
  },
  {
   "cell_type": "code",
   "execution_count": 58,
   "metadata": {},
   "outputs": [
    {
     "name": "stdout",
     "output_type": "stream",
     "text": [
      "Dumpster_DB\n",
      "Travel_db\n",
      "admin\n",
      "config\n",
      "craigslist_app\n",
      "craigslist_db\n",
      "exampleDB\n",
      "fruits_DB\n",
      "hockey_db\n",
      "local\n",
      "store_inventory\n",
      "team_db\n"
     ]
    }
   ],
   "source": [
    "# use enumerate to iterate the database names list\n",
    "for db in db_names:\n",
    "    print (db) \n",
    "\n"
   ]
  },
  {
   "cell_type": "code",
   "execution_count": 51,
   "metadata": {
    "collapsed": true
   },
   "outputs": [],
   "source": [
    "if 'mars_app' in db_names:\n",
    "    print('yes')\n",
    "    db = mongo_client.mars_app\n",
    "    print(len(db.list_collection_names()))"
   ]
  },
  {
   "cell_type": "code",
   "execution_count": 52,
   "metadata": {},
   "outputs": [],
   "source": [
    "db_names = mongo_client.list_database_names()\n",
    "\n",
    "if 'mars_app' in db_names:\n",
    "    db = mongo_client.mars_app\n",
    "    if len(db.list_collection_names())>0:\n",
    "        pass\n",
    "    else:\n",
    "        print('not there')\n",
    "    \n",
    "        #         scrape_mars.scrape()\n",
    "\n",
    "    "
   ]
  },
  {
   "cell_type": "code",
   "execution_count": null,
   "metadata": {},
   "outputs": [],
   "source": []
  }
 ],
 "metadata": {
  "kernelspec": {
   "display_name": "Python 3",
   "language": "python",
   "name": "python3"
  },
  "language_info": {
   "codemirror_mode": {
    "name": "ipython",
    "version": 3
   },
   "file_extension": ".py",
   "mimetype": "text/x-python",
   "name": "python",
   "nbconvert_exporter": "python",
   "pygments_lexer": "ipython3",
   "version": "3.7.4"
  }
 },
 "nbformat": 4,
 "nbformat_minor": 2
}

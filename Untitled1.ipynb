{
 "cells": [
  {
   "cell_type": "code",
   "execution_count": 27,
   "metadata": {},
   "outputs": [
    {
     "name": "stdout",
     "output_type": "stream",
     "text": [
      "news complete\n",
      "--------------\n",
      "JPL complete\n",
      "--------------\n",
      "weather complete\n",
      "--------------\n",
      "facts complete\n",
      "--------------\n",
      "hemispheres complete\n",
      "--------------\n"
     ]
    }
   ],
   "source": [
    "from splinter import Browser\n",
    "from bs4 import BeautifulSoup as bs\n",
    "import pandas as pd\n",
    "import time\n",
    "\n",
    "#set up Browser\n",
    "\n",
    "executable_path = {'executable_path': \"chromedriver\"}\n",
    "browser = Browser('chrome', **executable_path, headless=False)\n",
    "\n",
    "#create Scrape function\n",
    "\n",
    "def scrape():\n",
    "    #Get Nasa News\n",
    "    nasa_news = 'https://mars.nasa.gov/news/'\n",
    "    browser.visit(nasa_news)\n",
    "    html = browser.html\n",
    "    soup = bs(html, 'html.parser')\n",
    "    results = soup.find_all('li', class_=\"slide\")\n",
    "\n",
    "    news_title = []\n",
    "    news_pgraph = []\n",
    "    news_images = []\n",
    "\n",
    "    for result in results:\n",
    "        news_title.append(result.find('div',class_=\"content_title\").text)\n",
    "        news_pgraph.append(result.find('div',class_=\"article_teaser_body\").text)\n",
    "        news_images.append(nasa_news + result.a['href'])\n",
    "    \n",
    "    time.sleep(1)\n",
    "    \n",
    "    print('news complete')\n",
    "    print('--------------')\n",
    "    \n",
    "    #Collect JPL Image\n",
    "    jpl = 'https://www.jpl.nasa.gov/spaceimages/?search=&category=Mars'\n",
    "    browser.visit(jpl)\n",
    "    html = browser.html\n",
    "    soup = bs(html, 'html.parser')\n",
    "\n",
    "    browser.click_link_by_id('full_image')\n",
    "    time.sleep(2)\n",
    "    browser.click_link_by_partial_href('/spaceimages/details')\n",
    "    soup = bs(browser.html, 'html.parser')\n",
    "    results = soup.find('figure', class_ = 'lede')\n",
    "    base_url = browser.url[:24]\n",
    "    img = results.a.img['src']\n",
    "    featured_img_url = base_url + img\n",
    "\n",
    "    time.sleep(1)\n",
    "    \n",
    "    print('JPL complete')\n",
    "    print('--------------')\n",
    "    \n",
    "    #Mars Weather\n",
    "    weather = 'https://twitter.com/marswxreport?lang=en'\n",
    "    browser.visit(weather)\n",
    "    html = browser.html\n",
    "    soup = bs(html, 'html.parser')\n",
    "    \n",
    "    results = soup.find('div', class_=\"js-tweet-text-container\")\n",
    "    results.a.decompose()\n",
    "    mars_weather = results.find('p').text\n",
    "    \n",
    "    time.sleep(1)\n",
    "    \n",
    "    print('weather complete')\n",
    "    print('--------------')\n",
    "    \n",
    "    #Mars Facts\n",
    "    facts = 'https://space-facts.com/mars/'\n",
    "\n",
    "    mars_facts = pd.read_html(facts)[1].rename(columns = {0:'Fact',1:'Data'}).to_html().replace('\\n','')\n",
    "\n",
    "    time.sleep(1)\n",
    "    \n",
    "    print('facts complete')\n",
    "    print('--------------')\n",
    "    \n",
    "    #Mars Hemispheres\n",
    "    hemispheres = 'https://astrogeology.usgs.gov/search/results?q=hemisphere+enhanced&k1=target&v1=Mars'\n",
    "    browser.visit(hemispheres)\n",
    "    html = browser.html\n",
    "    soup = bs(html, 'html.parser')\n",
    "\n",
    "    hemisphere_image_urls = []\n",
    "\n",
    "    #Find list of image tags\n",
    "    base_url = browser.url[:29]\n",
    "    results = soup.find_all('div',attrs={'class':'collapsible results'})[0]\n",
    "    images = results.find_all('div')[:]\n",
    "\n",
    "    #iterate through length of tags and collect hrefs, navigate to page and collect full image link \n",
    "    for image in range(0,len(images)):\n",
    "        if image == 0 or image % 2 == 0:\n",
    "            url = base_url+images[image].a['href']\n",
    "            title = images[image].h3.text\n",
    "            browser.visit(url)\n",
    "            time.sleep(1)\n",
    "            soup = bs(browser.html,'html.parser')\n",
    "            results = soup.find_all('ul')[0]\n",
    "            result = results.find_all('li')[0]\n",
    "            url = result.a['href']\n",
    "            dict ={'title':title,\n",
    "                'img_url':url}\n",
    "            hemisphere_image_urls.append(dict)\n",
    "    \n",
    "    print('hemispheres complete')\n",
    "    print('--------------') \n",
    "    \n",
    "    mongo_dict = {\n",
    "        'news_title':news_title[0],\n",
    "        'news_description':news_pgraph[0],\n",
    "        'news_image':news_images[0],\n",
    "        'featured_img':featured_img_url,\n",
    "        'mars_weather':mars_weather,\n",
    "        'mars_facts':mars_facts,\n",
    "        'hemisphere_images':hemisphere_image_urls\n",
    "    }\n",
    "\n",
    "\n",
    "    return mongo_dict\n",
    "flask_dict = scrape()"
   ]
  },
  {
   "cell_type": "code",
   "execution_count": 28,
   "metadata": {},
   "outputs": [
    {
     "data": {
      "text/plain": [
       "'http://astropedia.astrogeology.usgs.gov/download/Mars/Viking/schiaparelli_enhanced.tif/full.jpg'"
      ]
     },
     "execution_count": 28,
     "metadata": {},
     "output_type": "execute_result"
    }
   ],
   "source": [
    "flask_dict['hemisphere_images'][1]['img_url']"
   ]
  },
  {
   "cell_type": "code",
   "execution_count": 26,
   "metadata": {},
   "outputs": [
    {
     "name": "stdout",
     "output_type": "stream",
     "text": [
      "{'news_title': \"Mars InSight's Mole Has Partially Backed Out of Its Hole\"}\n",
      "--------\n",
      "{'news_description': \"After making progress over the past several weeks digging into the surface of Mars, InSight's mole has backed about halfway out of its hole this past weekend.\"}\n",
      "--------\n",
      "{'news_image': 'https://mars.nasa.gov/news//news/8529/mars-insights-mole-has-partially-backed-out-of-its-hole/'}\n",
      "--------\n",
      "{'featured_img': 'https://www.jpl.nasa.gov/spaceimages/images/largesize/PIA19643_hires.jpg'}\n",
      "--------\n",
      "{'mars_weather': 'InSight sol 331 (2019-11-01) low -100.9ºC (-149.6ºF) high -24.6ºC (-12.3ºF)\\nwinds from the SSE at 5.2 m/s (11.6 mph) gusting to 18.5 m/s (41.4 mph)\\npressure at 7.00 hPa'}\n",
      "--------\n",
      "{'mars_facts': '<table border=\"1\" class=\"dataframe\">  <thead>    <tr style=\"text-align: right;\">      <th></th>      <th>Fact</th>      <th>Data</th>    </tr>  </thead>  <tbody>    <tr>      <th>0</th>      <td>Equatorial Diameter:</td>      <td>6,792 km</td>    </tr>    <tr>      <th>1</th>      <td>Polar Diameter:</td>      <td>6,752 km</td>    </tr>    <tr>      <th>2</th>      <td>Mass:</td>      <td>6.39 × 10^23 kg (0.11 Earths)</td>    </tr>    <tr>      <th>3</th>      <td>Moons:</td>      <td>2 (Phobos &amp; Deimos)</td>    </tr>    <tr>      <th>4</th>      <td>Orbit Distance:</td>      <td>227,943,824 km (1.38 AU)</td>    </tr>    <tr>      <th>5</th>      <td>Orbit Period:</td>      <td>687 days (1.9 years)</td>    </tr>    <tr>      <th>6</th>      <td>Surface Temperature:</td>      <td>-87 to -5 °C</td>    </tr>    <tr>      <th>7</th>      <td>First Record:</td>      <td>2nd millennium BC</td>    </tr>    <tr>      <th>8</th>      <td>Recorded By:</td>      <td>Egyptian astronomers</td>    </tr>  </tbody></table>'}\n",
      "--------\n",
      "{'hemisphere_images': [{'title': 'Cerberus Hemisphere Enhanced', 'img_url': 'http://astropedia.astrogeology.usgs.gov/download/Mars/Viking/cerberus_enhanced.tif/full.jpg'}, {'title': 'Schiaparelli Hemisphere Enhanced', 'img_url': 'http://astropedia.astrogeology.usgs.gov/download/Mars/Viking/schiaparelli_enhanced.tif/full.jpg'}, {'title': 'Syrtis Major Hemisphere Enhanced', 'img_url': 'http://astropedia.astrogeology.usgs.gov/download/Mars/Viking/syrtis_major_enhanced.tif/full.jpg'}, {'title': 'Valles Marineris Hemisphere Enhanced', 'img_url': 'http://astropedia.astrogeology.usgs.gov/download/Mars/Viking/valles_marineris_enhanced.tif/full.jpg'}]}\n",
      "--------\n"
     ]
    }
   ],
   "source": [
    "for item in flask_dict:\n",
    "    print({item:flask_dict[item]})\n",
    "    print('--------')"
   ]
  },
  {
   "cell_type": "code",
   "execution_count": null,
   "metadata": {},
   "outputs": [],
   "source": []
  }
 ],
 "metadata": {
  "kernelspec": {
   "display_name": "Python 3",
   "language": "python",
   "name": "python3"
  },
  "language_info": {
   "codemirror_mode": {
    "name": "ipython",
    "version": 3
   },
   "file_extension": ".py",
   "mimetype": "text/x-python",
   "name": "python",
   "nbconvert_exporter": "python",
   "pygments_lexer": "ipython3",
   "version": "3.7.4"
  }
 },
 "nbformat": 4,
 "nbformat_minor": 2
}
